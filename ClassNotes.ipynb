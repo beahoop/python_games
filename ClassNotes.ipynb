{
 "cells": [
  {
   "cell_type": "code",
   "execution_count": 34,
   "id": "daily-fellowship",
   "metadata": {},
   "outputs": [
    {
     "name": "stdout",
     "output_type": "stream",
     "text": [
      "1\n",
      "Charlie's funk level is 9.\n",
      "9\n"
     ]
    }
   ],
   "source": [
    "class Animal: \n",
    "    def __init__(self, name, size, number_of_eyes):\n",
    "        self.name = name\n",
    "        self.size = size\n",
    "        self.number_of_eyes = number_of_eyes\n",
    "        #self is like this.\n",
    "        self.stink = 1\n",
    "        \n",
    "    def __str__(self):\n",
    "        #we are returning a STRING not a number or anything else\n",
    "        return self.name.upper()\n",
    "    \n",
    "    def funk(self, days, sensitivity):\n",
    "        self.stink = (days + self.stink) * sensitivity\n",
    "        print(f'''{self.name}'s funk level is {self.stink}.''')\n",
    "\n",
    "charlie = Animal('Charlie', 'about this size', 2)\n",
    "bailey = Animal('Bailey', 'medium', 4)\n",
    "#instigate (bring about or initiate) animal is now an object\n",
    "print(charlie.stink)\n",
    "charlie.funk(2, 3)\n",
    "print(charlie.stink)"
   ]
  },
  {
   "cell_type": "code",
   "execution_count": 55,
   "id": "satellite-stanford",
   "metadata": {},
   "outputs": [
    {
     "name": "stdout",
     "output_type": "stream",
     "text": [
      "False\n",
      "True\n"
     ]
    }
   ],
   "source": [
    "class Dog: \n",
    "    \n",
    "    names = []\n",
    "    #this is globally \n",
    "    \n",
    "    kind = 'canine'\n",
    "    \n",
    "    def __init__(self, name, color, size):\n",
    "        self.name = name\n",
    "        self.size = color\n",
    "        self.size = size\n",
    "        self.nicknames = [] \n",
    "        #only available to each instance\n",
    "        self.has_a_tail = True\n",
    "    \n",
    "    def __str__(self):\n",
    "        return self.name\n",
    "    \n",
    "    def add_nickname(self, nickname):\n",
    "        self.nicknames.append(nickname)\n",
    "    \n",
    "lady = Dog('lady', 'brown', 'large')\n",
    "charlie = Dog('charlie', 'golden', 'a litte chubby')\n",
    "charlie.add_nickname('cha cha')\n",
    "\n",
    "milo = Dog(\"milo\", \"black and white\", \"pretty big\")\n",
    "    \n",
    "\n",
    "charlie.has_a_tail\n",
    "charlie.has_a_tail = False #charlie is not over-riding anyother dog\n",
    "print(charlie.has_a_tail)\n",
    "print(milo.has_a_tail)\n"
   ]
  },
  {
   "cell_type": "code",
   "execution_count": 61,
   "id": "simplified-receipt",
   "metadata": {},
   "outputs": [
    {
     "data": {
      "text/plain": [
       "'kinda sassy'"
      ]
     },
     "execution_count": 61,
     "metadata": {},
     "output_type": "execute_result"
    }
   ],
   "source": [
    "class Animal:\n",
    "    def __init__(self, name, color):\n",
    "        self.name = name\n",
    "        self.color = color\n",
    "class Dog(Animal):\n",
    "    def __init__(self, name, color, size):\n",
    "        super().__init__(name, color)\n",
    "        self.size = size\n",
    "        self.temperament = \"laid back\"\n",
    "\n",
    "class Poodle(Dog):\n",
    "    def __init__(self, name, color, size, breed):\n",
    "        super().__init__(name, color, size)\n",
    "        self.breed = breed\n",
    "        self.temperament = \"kinda sassy\" #this will override the temperament from dog\n",
    "        \n",
    "class PitBullMix(Dog):\n",
    "    def __init__(self, name, color, size, breed):\n",
    "        super().__init__(name, color, size)\n",
    "        self.breed = breed\n",
    "        \n",
    "milo = PitBullMix('milo', 'black and white', 'kinda big', 'bitpull mix')\n",
    "priss = Poodle('Priss', 'greay', 'minature', 'poodle')\n",
    "\n",
    "priss.temperament"
   ]
  },
  {
   "cell_type": "code",
   "execution_count": 72,
   "id": "practical-doubt",
   "metadata": {},
   "outputs": [
    {
     "name": "stdout",
     "output_type": "stream",
     "text": [
      "Woof! Woof!\n"
     ]
    }
   ],
   "source": [
    "class Animal:\n",
    "    def __init__(self, name, color):\n",
    "        self.name = name\n",
    "        self.color = color\n",
    "    \n",
    "    def speak(self):\n",
    "        print('I am an animal!')\n",
    "        \n",
    "class Dog(Animal):\n",
    "    def __init__(self, name, color, size):\n",
    "        super().__init__(name, color)\n",
    "        self.size = size\n",
    "        self.temperament = \"laid back\"\n",
    "    \n",
    "    def speak(self):\n",
    "        print(\"Woof! Woof!\")\n",
    "        \n",
    "charlie = Dog(\"cha cha\", \"mocha\", \"a little chubby\")\n",
    "charlie.speak()"
   ]
  },
  {
   "cell_type": "code",
   "execution_count": 84,
   "id": "electric-korean",
   "metadata": {},
   "outputs": [
    {
     "name": "stdout",
     "output_type": "stream",
     "text": [
      "Ahhhhhhhhhhhh! Scared of cats! Don't tell anyone!\n"
     ]
    }
   ],
   "source": [
    "        \n",
    "class Dog(Animal):\n",
    "    \n",
    "    _name = []\n",
    "    \n",
    "    def __init__(self, name, color):\n",
    "        self.name = name\n",
    "        self.color = color\n",
    "        \n",
    "        self.__be_scared_of()\n",
    "        #you can't edit this by any instance, but it will happen with each \n",
    "        #instance, you can't edit it in here, but not outwards\n",
    "    \n",
    "    def __str__(self):\n",
    "        return self.name\n",
    "    \n",
    "    def speak(self):\n",
    "        print(\"Woof, Woof!\")\n",
    "        \n",
    "    def __be_scared_of(self):\n",
    "        print(\"Ahhhhhhhhhhhh! Scared of cats! Don't tell anyone!\")\n",
    "        \n",
    "cooper = Dog('cooper', 'red')\n"
   ]
  },
  {
   "cell_type": "code",
   "execution_count": 95,
   "id": "empty-rehabilitation",
   "metadata": {},
   "outputs": [
    {
     "name": "stdout",
     "output_type": "stream",
     "text": [
      "That's not a common name\n",
      "['Capers', 'Chiquita', 'Cooper']\n"
     ]
    }
   ],
   "source": [
    "        \n",
    "class Dog(Animal):\n",
    "    \n",
    "    __names = [\"Capers\", \"Chiquita\"]\n",
    "       #you can't edit this by any instance, but it will happen with each \n",
    "        #instance, you can't edit it in here, but not outwards\n",
    "    \n",
    "    def __init__(self, name, color):\n",
    "        self.name = name\n",
    "        self.color = color\n",
    "        \n",
    "        self.__names.append(name)\n",
    "    \n",
    "    def __str__(self):\n",
    "        return self.name\n",
    "    \n",
    "    def common_name(self):\n",
    "        count = self.__names.count(self.name)\n",
    "        #but you can use it in your functions in to give data\n",
    "        if count > 10:\n",
    "            print(\"That's a common name\")\n",
    "        else:\n",
    "            print(\"That's not a common name\")\n",
    "            print(self.__names) #you can even print it in a diff function\n",
    "\n",
    "        \n",
    "cooper = Dog('Cooper', 'red')\n",
    "cooper.common_name()"
   ]
  },
  {
   "cell_type": "code",
   "execution_count": null,
   "id": "velvet-malta",
   "metadata": {},
   "outputs": [],
   "source": []
  }
 ],
 "metadata": {
  "kernelspec": {
   "display_name": "Python 3",
   "language": "python",
   "name": "python3"
  },
  "language_info": {
   "codemirror_mode": {
    "name": "ipython",
    "version": 3
   },
   "file_extension": ".py",
   "mimetype": "text/x-python",
   "name": "python",
   "nbconvert_exporter": "python",
   "pygments_lexer": "ipython3",
   "version": "3.9.1"
  }
 },
 "nbformat": 4,
 "nbformat_minor": 5
}
