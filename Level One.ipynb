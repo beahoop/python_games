{
 "cells": [
  {
   "cell_type": "code",
   "execution_count": 13,
   "id": "composed-observer",
   "metadata": {},
   "outputs": [],
   "source": [
    "import random\n",
    "# def you_guess_number():\n",
    "#     num = random.randrange(10)\n",
    "#     your_guess_list = []\n",
    "#     guess = input(\"Guess a number human...\") \n",
    "#     guess = int(guess)\n",
    "#     your_guess_list.append(guess)\n",
    "    \n",
    "#     if len(your_guess_list) < 3 and guess < num: \n",
    "#         return print(\"Higher\") \n",
    "#     elif len(your_guess_list) < 3 and guess > num:\n",
    "#         return print(\"Lower\")\n",
    "#     elif len(your_guess_list) > 3:\n",
    "#         return print(\"Out of guess!\")\n",
    "#     elif len(your_guess_list) < 3 and guess == num: \n",
    "#         return print(\"CORRET!\")"
   ]
  },
  {
   "cell_type": "code",
   "execution_count": 14,
   "id": "electrical-briefs",
   "metadata": {},
   "outputs": [
    {
     "ename": "NameError",
     "evalue": "name 'you_guess_number' is not defined",
     "output_type": "error",
     "traceback": [
      "\u001b[0;31m---------------------------------------------------------------------------\u001b[0m",
      "\u001b[0;31mNameError\u001b[0m                                 Traceback (most recent call last)",
      "\u001b[0;32m<ipython-input-14-cd752c6fbae1>\u001b[0m in \u001b[0;36m<module>\u001b[0;34m\u001b[0m\n\u001b[0;32m----> 1\u001b[0;31m \u001b[0myou_guess_number\u001b[0m\u001b[0;34m(\u001b[0m\u001b[0;34m)\u001b[0m\u001b[0;34m\u001b[0m\u001b[0;34m\u001b[0m\u001b[0m\n\u001b[0m",
      "\u001b[0;31mNameError\u001b[0m: name 'you_guess_number' is not defined"
     ]
    }
   ],
   "source": [
    "you_guess_number()"
   ]
  },
  {
   "cell_type": "code",
   "execution_count": 15,
   "id": "designed-armor",
   "metadata": {},
   "outputs": [],
   "source": [
    "def guess_num():\n",
    "    num = random.randrange(10)\n",
    "    your_guess_list = []\n",
    "    for i in range(3): \n",
    "        guess = input(\"guess number\")\n",
    "        guess = int(guess)\n",
    "        your_guess_list.append(guess)\n",
    "        \n",
    "        if len(your_guess_list) < 3 and guess < num: \n",
    "             print(\"Higher\") \n",
    "        elif len(your_guess_list) < 3 and guess > num:\n",
    "            print(\"Lower\")\n",
    "        elif len(your_guess_list) == 3:\n",
    "             print(\"Out of guess!\")\n",
    "        elif len(your_guess_list) < 3 and guess == num: \n",
    "            print(\"CORRET!\")"
   ]
  },
  {
   "cell_type": "code",
   "execution_count": null,
   "id": "chinese-drain",
   "metadata": {},
   "outputs": [],
   "source": [
    "guess_num()"
   ]
  },
  {
   "cell_type": "code",
   "execution_count": null,
   "id": "christian-reporter",
   "metadata": {},
   "outputs": [],
   "source": [
    "from random import randint\n",
    "\n",
    "def play():\n",
    "\n",
    "    random_number = randint(1, 100)\n",
    "    counter = 0\n",
    "    \n",
    "    while counter < 5:\n",
    "        user_guess = int(input(\"Guess a number 1-100: \"))\n",
    "        if user_guess == random_number:\n",
    "            print('You win!')\n",
    "            break\n",
    "        elif user_guess < random_number:\n",
    "            print('Too low!')\n",
    "        else:\n",
    "            print('Too high!')\n",
    "        \n",
    "        counter += 1\n",
    "        \n",
    "        if(counter==5):\n",
    "            print('You ran out of guesses. The number was: ', random_number)\n",
    "            \n",
    "play()"
   ]
  },
  {
   "cell_type": "code",
   "execution_count": null,
   "id": "cubic-manhattan",
   "metadata": {},
   "outputs": [],
   "source": []
  }
 ],
 "metadata": {
  "kernelspec": {
   "display_name": "Python 3",
   "language": "python",
   "name": "python3"
  },
  "language_info": {
   "codemirror_mode": {
    "name": "ipython",
    "version": 3
   },
   "file_extension": ".py",
   "mimetype": "text/x-python",
   "name": "python",
   "nbconvert_exporter": "python",
   "pygments_lexer": "ipython3",
   "version": "3.9.1"
  }
 },
 "nbformat": 4,
 "nbformat_minor": 5
}
