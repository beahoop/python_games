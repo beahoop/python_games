{
 "cells": [
  {
   "cell_type": "code",
   "execution_count": 34,
   "id": "fallen-child",
   "metadata": {},
   "outputs": [],
   "source": [
    "#HUNGRY HIPPOS"
   ]
  },
  {
   "cell_type": "code",
   "execution_count": 35,
   "id": "pointed-prayer",
   "metadata": {},
   "outputs": [
    {
     "name": "stdout",
     "output_type": "stream",
     "text": [
      "\n",
      "You open your eyes but you are surround by darkness… as you try to take a step forward, you realize there is no floor in front of you or on either side of you. A loud CLICK! A spotlight is on you! You look below you and you are on a black levers that seems to be attached to a hot pink blob. Over a loud speaker you hear. \n",
      "It's a race, it's a chase, hurry up and feed their face! Who will win? No one knows! Feed the hungry hip-ip-pos! Hungry hungry hippos! open up and there it goes!\n",
      "CLICK CLICK CLICK The room lights up! You find yourself standing on a the back of a Hot pink hungry hungry hippos! \n",
      "Across the room you see a plastic lifeless hippo staring you in your eyes.\n",
      "Even though it’s lifeless you understand it has a hunger that can not be satisfied\n",
      "\n",
      "   ∩  ︵  ∩\n",
      "  ) ʘ   ʘ (\n",
      " (  ●  ●   )\n",
      " ___________\n",
      " ╰━━━━━━━━━━╯\n",
      "\n",
      "CLICK A waterfall of hippos pearls fall from the abyss above.\n",
      "\n",
      "|   |     |\n",
      "| |   |  ||\n",
      "|  |  |   |\n",
      "|'. .' .`.|\n",
      "|0oOO0oO0o|\n",
      "\n",
      "As the pearls continue to fall you watch the lime green hippo open its mouth fast and furious to gobble up as much white balls as it can.\n",
      "\n",
      "   ∩  ︵  ∩\n",
      "  ) ʘ   ʘ (\n",
      " (__●__●___)\n",
      " \\ U     U /\n",
      "  )        (\n",
      " /__n_____n_ \n",
      "╰━━━━━━━━━━━━╯\n",
      "\n",
      "You remember fondly remember playing this game as a child and it clicks in your head that the lever is controlling your hippo.\n"
     ]
    }
   ],
   "source": [
    "import random\n",
    "\n",
    "\n",
    "print(\"\"\"\n",
    "You open your eyes but you are surround by darkness… as you try to take a step forward, you realize there is no floor in front of you or on either side of you. A loud CLICK! A spotlight is on you! You look below you and you are on a black levers that seems to be attached to a hot pink blob. Over a loud speaker you hear. \n",
    "It's a race, it's a chase, hurry up and feed their face! Who will win? No one knows! Feed the hungry hip-ip-pos! Hungry hungry hippos! open up and there it goes!\n",
    "CLICK CLICK CLICK The room lights up! You find yourself standing on a the back of a Hot pink hungry hungry hippos! \n",
    "Across the room you see a plastic lifeless hippo staring you in your eyes.\n",
    "Even though it’s lifeless you understand it has a hunger that can not be satisfied\"\"\")\n",
    "\n",
    "print(\"\"\"\n",
    "   ∩  ︵  ∩\n",
    "  ) ʘ   ʘ (\n",
    " (  ●  ●   )\n",
    " ___________\n",
    " ╰━━━━━━━━━━╯\n",
    "\"\"\")    \n",
    "    \n",
    "print(\"CLICK A waterfall of hippos pearls fall from the abyss above.\")\n",
    "print(\"\"\"\n",
    "|   |     |\n",
    "| |   |  ||\n",
    "|  |  |   |\n",
    "|'. .' .`.|\n",
    "|0oOO0oO0o|\n",
    "\"\"\")\n",
    "\n",
    "print(\"As the pearls continue to fall you watch the lime green hippo open its mouth fast and furious to gobble up as much white balls as it can.\")\n",
    "\n",
    "print(\"\"\"\n",
    "   ∩  ︵  ∩\n",
    "  ) ʘ   ʘ (\n",
    " (__●__●___)\n",
    " \\ U     U /\n",
    "  )        (\n",
    " /__n_____n_\\\n",
    " \n",
    "╰━━━━━━━━━━━━╯\n",
    "\"\"\")\n",
    "\n",
    "print(\"You remember fondly remember playing this game as a child and it clicks in your head that the lever is controlling your hippo.\")\n",
    "\n",
    "\n",
    "\n",
    "    \n",
    "\n",
    "# You have chosen jump on lever. Please hit j to jump. \n",
    "# //random.randit(1,2)\n",
    "# if 1 then print\n",
    "# You have jumped hard enough to open the hippos mouth you have eaten andom.randit(1,8)\n",
    "# jump again! \n",
    "# else 2 the print\n",
    "# you didn’t jump hard enough, you didn’t get any balls pick again"
   ]
  },
  {
   "cell_type": "code",
   "execution_count": null,
   "id": "together-minimum",
   "metadata": {},
   "outputs": [
    {
     "name": "stdout",
     "output_type": "stream",
     "text": [
      "Q to Quit. Anyother key to continiue : \n",
      "Player1 _ what would you like to do? \n",
      "            A. Jump\n",
      "            B. Run away\n",
      "            Please type A or B for your action: A\n",
      "You jumped!\n",
      "You now have 8\n",
      "Q to Quit. Anyother key to continiue : A\n"
     ]
    }
   ],
   "source": [
    "def play():\n",
    "    player_pearls = 0\n",
    "    while player_pearls < 10:\n",
    "        quit = input(\"Q to Quit. Anyother key to continiue : \")\n",
    "        if quit == \"Q\":\n",
    "            break\n",
    "        else:     \n",
    "            player_action = input(\"\"\"Player1 _ what would you like to do? \n",
    "            A. Jump\n",
    "            B. Run away\n",
    "            Please type A or B for your action: \"\"\")\n",
    "            if player_action == 'A':\n",
    "                print(\"You jumped!\")\n",
    "                 #may want to give this a the player? \n",
    "                p1_pearl = random.randint(1, 9)\n",
    "                player_pearls +=  p1_pearl\n",
    "                print(f\"You now have {player_pearls}\")\n",
    "            else:\n",
    "                print(\"You coward..jump...JUMP!\") \n",
    "       \n",
    "    \n",
    "play()"
   ]
  },
  {
   "cell_type": "code",
   "execution_count": null,
   "id": "higher-diagnosis",
   "metadata": {},
   "outputs": [],
   "source": []
  }
 ],
 "metadata": {
  "kernelspec": {
   "display_name": "Python 3",
   "language": "python",
   "name": "python3"
  },
  "language_info": {
   "codemirror_mode": {
    "name": "ipython",
    "version": 3
   },
   "file_extension": ".py",
   "mimetype": "text/x-python",
   "name": "python",
   "nbconvert_exporter": "python",
   "pygments_lexer": "ipython3",
   "version": "3.9.1"
  }
 },
 "nbformat": 4,
 "nbformat_minor": 5
}
