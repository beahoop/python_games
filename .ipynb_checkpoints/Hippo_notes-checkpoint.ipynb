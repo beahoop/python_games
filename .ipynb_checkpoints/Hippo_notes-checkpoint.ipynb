{
 "cells": [
  {
   "cell_type": "code",
   "execution_count": null,
   "id": "missing-works",
   "metadata": {},
   "outputs": [],
   "source": [
    "def play():\n",
    "    player_pearls = 0\n",
    "    while player_pearls < 10:\n",
    "        quit = input(\"Q to Quit. Anyother key to continiue : \")\n",
    "        if quit == \"Q\":\n",
    "            break\n",
    "        else:     \n",
    "            player_action = input(\"\"\"Player1 _ what would you like to do? \n",
    "            A. Jump\n",
    "            B. Run away\n",
    "            Please type A or B for your action: \"\"\")\n",
    "            if player_action == 'A':\n",
    "                print(\"You jumped!\")\n",
    "                 #may want to give this a the player? \n",
    "                p1_pearl = random.randint(1, 9)\n",
    "                player_pearls +=  p1_pearl\n",
    "                print(f\"You now have {player_pearls}\")\n",
    "            else:\n",
    "                print(\"You coward..jump...JUMP!\") \n",
    "       \n",
    "    \n",
    "play()"
   ]
  }
 ],
 "metadata": {
  "kernelspec": {
   "display_name": "Python 3",
   "language": "python",
   "name": "python3"
  },
  "language_info": {
   "codemirror_mode": {
    "name": "ipython",
    "version": 3
   },
   "file_extension": ".py",
   "mimetype": "text/x-python",
   "name": "python",
   "nbconvert_exporter": "python",
   "pygments_lexer": "ipython3",
   "version": "3.9.1"
  }
 },
 "nbformat": 4,
 "nbformat_minor": 5
}
