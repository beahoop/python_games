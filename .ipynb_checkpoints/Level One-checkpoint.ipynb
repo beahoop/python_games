{
 "cells": [
  {
   "cell_type": "code",
   "execution_count": 90,
   "id": "composed-observer",
   "metadata": {},
   "outputs": [],
   "source": [
    "# import random\n",
    "# def you_guess_number():\n",
    "#     num = random.randrange(10)\n",
    "#     your_guess_list = []\n",
    "#     guess = input(\"Guess a number human...\") \n",
    "#     guess = int(guess)\n",
    "#     your_guess_list.append(guess)\n",
    "    \n",
    "#     if len(your_guess_list) < 3 and guess < num: \n",
    "#         return print(\"Higher\") \n",
    "#     elif len(your_guess_list) < 3 and guess > num:\n",
    "#         return print(\"Lower\")\n",
    "#     elif len(your_guess_list) > 3:\n",
    "#         return print(\"Out of guess!\")\n",
    "#     elif len(your_guess_list) < 3 and guess == num: \n",
    "#         return print(\"CORRET!\")"
   ]
  },
  {
   "cell_type": "code",
   "execution_count": 43,
   "id": "electrical-briefs",
   "metadata": {},
   "outputs": [
    {
     "name": "stdout",
     "output_type": "stream",
     "text": [
      "Guess a number human...4\n",
      "Lower\n"
     ]
    }
   ],
   "source": [
    "you_guess_number()"
   ]
  },
  {
   "cell_type": "code",
   "execution_count": 86,
   "id": "designed-armor",
   "metadata": {},
   "outputs": [],
   "source": [
    "def guess_num():\n",
    "    num = random.randrange(10)\n",
    "    your_guess_list = []\n",
    "    for i in range(3): \n",
    "        guess = input(\"guess number\")\n",
    "        guess = int(guess)\n",
    "        your_guess_list.append(guess)\n",
    "        \n",
    "        if len(your_guess_list) < 3 and guess < num: \n",
    "             print(\"Higher\") \n",
    "        elif len(your_guess_list) < 3 and guess > num:\n",
    "            print(\"Lower\")\n",
    "        elif len(your_guess_list) == 3:\n",
    "             print(\"Out of guess!\")\n",
    "        elif len(your_guess_list) < 3 and guess == num: \n",
    "            print(\"CORRET!\")"
   ]
  },
  {
   "cell_type": "code",
   "execution_count": 89,
   "id": "chinese-drain",
   "metadata": {},
   "outputs": [
    {
     "name": "stdout",
     "output_type": "stream",
     "text": [
      "guess number4\n",
      "Higher\n",
      "guess number3\n",
      "Higher\n",
      "guess number1\n",
      "Out of guess!\n"
     ]
    }
   ],
   "source": [
    "guess_num()"
   ]
  }
 ],
 "metadata": {
  "kernelspec": {
   "display_name": "Python 3",
   "language": "python",
   "name": "python3"
  },
  "language_info": {
   "codemirror_mode": {
    "name": "ipython",
    "version": 3
   },
   "file_extension": ".py",
   "mimetype": "text/x-python",
   "name": "python",
   "nbconvert_exporter": "python",
   "pygments_lexer": "ipython3",
   "version": "3.9.1"
  }
 },
 "nbformat": 4,
 "nbformat_minor": 5
}
