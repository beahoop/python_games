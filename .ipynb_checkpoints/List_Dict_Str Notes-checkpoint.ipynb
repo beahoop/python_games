{
 "cells": [
  {
   "cell_type": "code",
   "execution_count": 1,
   "id": "recovered-scheme",
   "metadata": {},
   "outputs": [],
   "source": [
    "#List \n",
    "\n",
    "# list are represneted with brakcets []\n",
    "\n",
    "fruits = []\n",
    "\n",
    "fruits = list()"
   ]
  },
  {
   "cell_type": "code",
   "execution_count": 4,
   "id": "wired-router",
   "metadata": {},
   "outputs": [
    {
     "name": "stdout",
     "output_type": "stream",
     "text": [
      "['apples', 'pear', 'banana']\n"
     ]
    }
   ],
   "source": [
    "fruits = ['apples', 'pear', 'banana']\n",
    "print(fruits)"
   ]
  },
  {
   "cell_type": "code",
   "execution_count": 5,
   "id": "after-reynolds",
   "metadata": {},
   "outputs": [
    {
     "name": "stdout",
     "output_type": "stream",
     "text": [
      "['apples', 'pear', 'banana', 'peach']\n"
     ]
    }
   ],
   "source": [
    "fruits.append('peach')\n",
    "print(fruits)"
   ]
  },
  {
   "cell_type": "code",
   "execution_count": 7,
   "id": "foreign-silicon",
   "metadata": {},
   "outputs": [
    {
     "name": "stdout",
     "output_type": "stream",
     "text": [
      "[True, 100, 1.1, 'Hello']\n"
     ]
    }
   ],
   "source": [
    "random = []\n",
    "\n",
    "random.append(True)\n",
    "random.append(100)\n",
    "random.append(1.1)\n",
    "random.append(\"Hello\")\n",
    "print(random)"
   ]
  },
  {
   "cell_type": "code",
   "execution_count": 8,
   "id": "persistent-separation",
   "metadata": {},
   "outputs": [
    {
     "data": {
      "text/plain": [
       "'Hello'"
      ]
     },
     "execution_count": 8,
     "metadata": {},
     "output_type": "execute_result"
    }
   ],
   "source": [
    "random[3]"
   ]
  },
  {
   "cell_type": "code",
   "execution_count": 9,
   "id": "vertical-coating",
   "metadata": {},
   "outputs": [
    {
     "name": "stdout",
     "output_type": "stream",
     "text": [
      "Hello\n"
     ]
    }
   ],
   "source": [
    "last_item = random.pop()\n",
    "print(last_item)"
   ]
  },
  {
   "cell_type": "code",
   "execution_count": 10,
   "id": "communist-encoding",
   "metadata": {},
   "outputs": [
    {
     "name": "stdout",
     "output_type": "stream",
     "text": [
      "[True, 100, 1.1]\n"
     ]
    }
   ],
   "source": [
    "print(random)"
   ]
  },
  {
   "cell_type": "code",
   "execution_count": 13,
   "id": "grave-comparison",
   "metadata": {},
   "outputs": [
    {
     "name": "stdout",
     "output_type": "stream",
     "text": [
      "['blue', 'green', 'purple', 'red', 'orange', 'yellow']\n"
     ]
    }
   ],
   "source": [
    "cool_colors = [\"blue\", \"green\", \"purple\"]\n",
    "warm_colors = [\"red\", \"orange\", \"yellow\"]\n",
    "all_colors = cool_colors + warm_colors\n",
    "print(all_colors)"
   ]
  },
  {
   "cell_type": "code",
   "execution_count": 14,
   "id": "floral-terry",
   "metadata": {},
   "outputs": [
    {
     "data": {
      "text/plain": [
       "True"
      ]
     },
     "execution_count": 14,
     "metadata": {},
     "output_type": "execute_result"
    }
   ],
   "source": [
    "'purple' in cool_colors"
   ]
  },
  {
   "cell_type": "code",
   "execution_count": 15,
   "id": "metric-label",
   "metadata": {},
   "outputs": [
    {
     "data": {
      "text/plain": [
       "6"
      ]
     },
     "execution_count": 15,
     "metadata": {},
     "output_type": "execute_result"
    }
   ],
   "source": [
    "len(all_colors)"
   ]
  },
  {
   "cell_type": "code",
   "execution_count": 16,
   "id": "distributed-courtesy",
   "metadata": {},
   "outputs": [
    {
     "data": {
      "text/plain": [
       "False"
      ]
     },
     "execution_count": 16,
     "metadata": {},
     "output_type": "execute_result"
    }
   ],
   "source": [
    "'green' not in all_colors"
   ]
  },
  {
   "cell_type": "code",
   "execution_count": 29,
   "id": "dressed-coordinate",
   "metadata": {},
   "outputs": [
    {
     "name": "stdout",
     "output_type": "stream",
     "text": [
      "Boo!\n"
     ]
    }
   ],
   "source": [
    "guess = \"red\"\n",
    "if guess in cool_colors:\n",
    "    print(\"YAY!\")\n",
    "else:\n",
    "    print(\"Boo!\")"
   ]
  },
  {
   "cell_type": "code",
   "execution_count": 33,
   "id": "coastal-copper",
   "metadata": {},
   "outputs": [
    {
     "name": "stdout",
     "output_type": "stream",
     "text": [
      "{'name': 'Sally', 'pet': 'dog', 'fav_color': 'green'}\n"
     ]
    }
   ],
   "source": [
    "my_dict = {} #this is a dictonary \n",
    "\n",
    "my_dict = dict() \n",
    "\n",
    "my_dict = {'name': 'Sally', 'pet': 'dog'} #key: value \n",
    "#must wrap your key is your quotes too\n",
    "\n",
    "my_dict['fav_color'] = 'green'\n",
    "\n",
    "print(my_dict)"
   ]
  },
  {
   "cell_type": "code",
   "execution_count": 35,
   "id": "round-likelihood",
   "metadata": {},
   "outputs": [
    {
     "name": "stdout",
     "output_type": "stream",
     "text": [
      "{'name': 'Sally', 'pet': 'dog', 'fav_color': 'yellow'}\n"
     ]
    }
   ],
   "source": [
    "my_dict['fav_color'] = 'yellow'\n",
    "print(my_dict)\n",
    "#if fav_color isn't in the dict then it will add it, if so, it will replace it"
   ]
  },
  {
   "cell_type": "code",
   "execution_count": 36,
   "id": "sacred-distribution",
   "metadata": {},
   "outputs": [
    {
     "data": {
      "text/plain": [
       "True"
      ]
     },
     "execution_count": 36,
     "metadata": {},
     "output_type": "execute_result"
    }
   ],
   "source": [
    "'fav_color' in my_dict"
   ]
  },
  {
   "cell_type": "code",
   "execution_count": 37,
   "id": "light-cookie",
   "metadata": {},
   "outputs": [
    {
     "data": {
      "text/plain": [
       "'yellow'"
      ]
     },
     "execution_count": 37,
     "metadata": {},
     "output_type": "execute_result"
    }
   ],
   "source": [
    "my_dict['fav_color']"
   ]
  },
  {
   "cell_type": "code",
   "execution_count": 38,
   "id": "identical-communist",
   "metadata": {},
   "outputs": [
    {
     "name": "stdout",
     "output_type": "stream",
     "text": [
      "{'name': 'Sally', 'pet': 'dog'}\n"
     ]
    }
   ],
   "source": [
    "del my_dict['fav_color']\n",
    "print(my_dict)"
   ]
  },
  {
   "cell_type": "code",
   "execution_count": 39,
   "id": "offshore-administration",
   "metadata": {},
   "outputs": [],
   "source": [
    "#k stands for key and \n",
    "#v stands for value"
   ]
  },
  {
   "cell_type": "code",
   "execution_count": 40,
   "id": "paperback-reward",
   "metadata": {},
   "outputs": [],
   "source": [
    "#you can add list together lista + listb or you can append them\n",
    "#adding them together will combine them\n",
    "#appending them with nest them into the list "
   ]
  },
  {
   "cell_type": "code",
   "execution_count": 44,
   "id": "duplicate-thunder",
   "metadata": {},
   "outputs": [
    {
     "name": "stdout",
     "output_type": "stream",
     "text": [
      "dlroW ,olleH\n"
     ]
    }
   ],
   "source": [
    "my_string =(\"Hello, World\")\n",
    "print(my_string[::-1])\n",
    "# print(my_string[START:STOP:STEP])"
   ]
  },
  {
   "cell_type": "code",
   "execution_count": 45,
   "id": "handmade-clothing",
   "metadata": {},
   "outputs": [
    {
     "name": "stdout",
     "output_type": "stream",
     "text": [
      "H\n",
      "e\n",
      "l\n",
      "l\n",
      "o\n",
      ",\n",
      " \n",
      "W\n",
      "o\n",
      "r\n",
      "l\n",
      "d\n"
     ]
    }
   ],
   "source": [
    "for i in my_string:\n",
    "    print(i)"
   ]
  },
  {
   "cell_type": "code",
   "execution_count": 46,
   "id": "boring-inclusion",
   "metadata": {},
   "outputs": [
    {
     "name": "stdout",
     "output_type": "stream",
     "text": [
      "Hello, World"
     ]
    }
   ],
   "source": [
    "for i in my_string:\n",
    "    print(i, end=\"\")"
   ]
  },
  {
   "cell_type": "code",
   "execution_count": 63,
   "id": "orange-criterion",
   "metadata": {},
   "outputs": [
    {
     "name": "stdout",
     "output_type": "stream",
     "text": [
      "Sally\n",
      "40\n"
     ]
    }
   ],
   "source": [
    "my_dict = {'name':'Sally', 'years_of_life':40}\n",
    "for key in my_dict:\n",
    "    print(my_dict[key])"
   ]
  },
  {
   "cell_type": "code",
   "execution_count": 102,
   "id": "satisfactory-arrival",
   "metadata": {},
   "outputs": [],
   "source": [
    "names = [\"Capers\", \"Chiquita\", \"Cooper\"]\n",
    "#replace all a's with @ \n",
    "#replace all i's with o"
   ]
  },
  {
   "cell_type": "code",
   "execution_count": 103,
   "id": "bibliographic-tradition",
   "metadata": {},
   "outputs": [
    {
     "name": "stdout",
     "output_type": "stream",
     "text": [
      "['C@pers', 'Choquot@', 'Cooper']\n"
     ]
    }
   ],
   "source": [
    "\n",
    "for index, name in enumerate(names):\n",
    "    name = name.replace(\"a\", \"@\").replace(\"i\", \"o\")\n",
    "    names[index] = name\n",
    "    \n",
    "print(names)\n"
   ]
  },
  {
   "cell_type": "code",
   "execution_count": null,
   "id": "knowing-external",
   "metadata": {},
   "outputs": [],
   "source": []
  }
 ],
 "metadata": {
  "kernelspec": {
   "display_name": "Python 3",
   "language": "python",
   "name": "python3"
  },
  "language_info": {
   "codemirror_mode": {
    "name": "ipython",
    "version": 3
   },
   "file_extension": ".py",
   "mimetype": "text/x-python",
   "name": "python",
   "nbconvert_exporter": "python",
   "pygments_lexer": "ipython3",
   "version": "3.9.1"
  }
 },
 "nbformat": 4,
 "nbformat_minor": 5
}
