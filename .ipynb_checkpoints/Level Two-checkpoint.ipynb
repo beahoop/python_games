{
 "cells": [
  {
   "cell_type": "code",
   "execution_count": 12,
   "id": "present-bunny",
   "metadata": {},
   "outputs": [],
   "source": [
    "import random \n",
    "def computer_guess():\n",
    "    num = input(\"Pick a number 1-10\")\n",
    "    num = int(num)\n",
    "    computer_guess = []\n",
    "    for i in range(3):\n",
    "        guess = random.randrange(10)\n",
    "        computer_guess.append(guess)\n",
    "        \n",
    "        if len(computer_guess) < 3 and guess < num: \n",
    "             print(\"Higher\") \n",
    "        elif len(computer_guess) < 3 and guess > num:\n",
    "            print(\"Lower\")\n",
    "        elif len(computer_guess) == 3:\n",
    "             print(\"Out of guess!\")\n",
    "        elif len(computer_guess) < 3 and guess == num: \n",
    "            print(\"CORRET!\")"
   ]
  },
  {
   "cell_type": "code",
   "execution_count": 13,
   "id": "distinct-cleaners",
   "metadata": {},
   "outputs": [
    {
     "name": "stdout",
     "output_type": "stream",
     "text": [
      "Pick a number 1-105\n",
      "Higher\n",
      "Higher\n",
      "Out of guess!\n"
     ]
    }
   ],
   "source": [
    "computer_guess()"
   ]
  },
  {
   "cell_type": "code",
   "execution_count": null,
   "id": "original-africa",
   "metadata": {},
   "outputs": [],
   "source": []
  }
 ],
 "metadata": {
  "kernelspec": {
   "display_name": "Python 3",
   "language": "python",
   "name": "python3"
  },
  "language_info": {
   "codemirror_mode": {
    "name": "ipython",
    "version": 3
   },
   "file_extension": ".py",
   "mimetype": "text/x-python",
   "name": "python",
   "nbconvert_exporter": "python",
   "pygments_lexer": "ipython3",
   "version": "3.9.1"
  }
 },
 "nbformat": 4,
 "nbformat_minor": 5
}
