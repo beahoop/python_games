{
 "cells": [
  {
   "cell_type": "code",
   "execution_count": 38,
   "id": "favorite-soccer",
   "metadata": {},
   "outputs": [],
   "source": [
    "#sunhine \n",
    "#guess a if not right\n",
    "#show _ _ _ _ _ _ _ _\n",
    "#if guess u then\n",
    "#show _u_ _ _ _ _\n",
    "#get WRONG 6 guesses \n",
    "#unlimted right guesses "
   ]
  },
  {
   "cell_type": "code",
   "execution_count": 152,
   "id": "subject-charter",
   "metadata": {},
   "outputs": [
    {
     "name": "stdout",
     "output_type": "stream",
     "text": [
      "milkweed\n",
      "\n"
     ]
    }
   ],
   "source": [
    "# import random\n",
    "# with open('/usr/share/dict/words', 'rt') as file:\n",
    "#     words = file.readlines()\n",
    "#     word = random.choice(words)\n",
    "#     print(word)"
   ]
  },
  {
   "cell_type": "code",
   "execution_count": 75,
   "id": "typical-vulnerability",
   "metadata": {},
   "outputs": [],
   "source": [
    "# for i in word: \n",
    "#     if i == guess\n",
    "#         n += 1"
   ]
  },
  {
   "cell_type": "code",
   "execution_count": 77,
   "id": "sound-spelling",
   "metadata": {},
   "outputs": [
    {
     "name": "stdout",
     "output_type": "stream",
     "text": [
      "['_un_hine']\n"
     ]
    }
   ],
   "source": [
    "names = [\"sunshine\"]\n",
    "\n",
    "for index, name in enumerate(names):\n",
    "    name = name.replace(\"s\", \"_\")\n",
    "    names[index] = name\n",
    "    \n",
    "print(names)"
   ]
  },
  {
   "cell_type": "code",
   "execution_count": 110,
   "id": "attractive-frontier",
   "metadata": {},
   "outputs": [
    {
     "name": "stdout",
     "output_type": "stream",
     "text": [
      "s__sssss__\n"
     ]
    }
   ],
   "source": [
    "blank =\"__________\"\n",
    "guess = \"s\"\n",
    "word = \"sunssssshine\"\n",
    "\n",
    "if guess in word:\n",
    "    for i, letter in enumerate(word):\n",
    "#       i is the index\n",
    "#       letter is the letter in word\n",
    "#       update the correct index of blank with the guess both letter \n",
    "        if letter == guess:\n",
    "            blank = blank[:i] + guess + blank[i+1:]\n",
    "\n",
    "print(blank)"
   ]
  },
  {
   "cell_type": "code",
   "execution_count": 77,
   "id": "cross-automation",
   "metadata": {},
   "outputs": [
    {
     "name": "stdout",
     "output_type": "stream",
     "text": [
      "['_un_hine']\n"
     ]
    }
   ],
   "source": [
    "names = [\"sunshine\"]\n",
    "\n",
    "for index, name in enumerate(names):\n",
    "    name = name.replace(\"s\", \"_\")\n",
    "    names[index] = name\n",
    "    \n",
    "print(names)"
   ]
  },
  {
   "cell_type": "code",
   "execution_count": 94,
   "id": "existing-nancy",
   "metadata": {},
   "outputs": [
    {
     "name": "stdout",
     "output_type": "stream",
     "text": [
      "_____i__\n"
     ]
    }
   ],
   "source": [
    "word = \"sunshine\"\n",
    "guess = \"i\"\n",
    "position = word.index(guess)\n",
    "blank = \"________\"\n",
    "blank = blank[:position] + guess + blank[position+1:]\n",
    "print(blank)"
   ]
  },
  {
   "cell_type": "code",
   "execution_count": null,
   "id": "demographic-obligation",
   "metadata": {},
   "outputs": [],
   "source": [
    "import random\n",
    "def play():\n",
    "    with open('/usr/share/dict/words', 'rt') as file:\n",
    "        #this will open the file and close it once this lines runs\n",
    "        words = file.readlines()\n",
    "        word = random.choice(words)\n",
    "        #word = random.choice(words).strip().lower()\n",
    "        #strip() strips white space\n",
    "    blank = len(word)* \"_\"\n",
    "    guessed = []\n",
    "    wrong_counter = 0\n",
    "    hangman = [\"\"\"\n",
    "    \"\"\",\"\"\"\n",
    "    ------\n",
    "      o  |\"\"\",\"\"\"\n",
    "    ------\n",
    "      o  |\n",
    "      |  |\"\"\",\"\"\"\n",
    "    ------\n",
    "      o  |\n",
    "     /|  |\"\"\",\"\"\"\n",
    "    ------\n",
    "      o  |\n",
    "     /|\\ |\"\"\",\"\"\"\n",
    "    ------\n",
    "      o  |\n",
    "     /|\\ |\n",
    "     /   |\"\"\",\"\"\"\n",
    "    ------\n",
    "      o  |\n",
    "     /|\\ |\n",
    "     / \\ |\"\"\"]\n",
    "    \n",
    "    while wrong_counter < len(hangman) -1:\n",
    "        #if the image list gets longer the gusser will have more chances \n",
    "        print(blank)\n",
    "        guess = input(\"Type a letter to guess: \") \n",
    "       \n",
    "        if (guess in word and blank != word):\n",
    "            for i, letter in enumerate(word):\n",
    "                #give an index to each character \n",
    "                #1st var is an index value \n",
    "                if letter == guess:\n",
    "                    blank = blank[:i] + guess + blank[i+1:]\n",
    "                    print(\"Correct guess!\")\n",
    "        elif(blank == word):\n",
    "            print(\"YAY! You win!\")\n",
    "            break\n",
    "        else:\n",
    "            wrong_counter += 1\n",
    "            guessed.append(guess)\n",
    "            print(hangman[wrong_counter])\n",
    "            print(\"Boo!\")\n",
    "            print(\"You've guessed:\", guessed)\n",
    "            \n",
    "            \n",
    "            \n",
    "        if wrong_counter == 6:\n",
    "            print(\"OUT OF GUESSES, GAME OVER! The word was\", word)\n",
    "            break\n",
    "play()"
   ]
  },
  {
   "cell_type": "code",
   "execution_count": null,
   "id": "growing-awareness",
   "metadata": {},
   "outputs": [],
   "source": []
  }
 ],
 "metadata": {
  "kernelspec": {
   "display_name": "Python 3",
   "language": "python",
   "name": "python3"
  },
  "language_info": {
   "codemirror_mode": {
    "name": "ipython",
    "version": 3
   },
   "file_extension": ".py",
   "mimetype": "text/x-python",
   "name": "python",
   "nbconvert_exporter": "python",
   "pygments_lexer": "ipython3",
   "version": "3.9.1"
  }
 },
 "nbformat": 4,
 "nbformat_minor": 5
}
