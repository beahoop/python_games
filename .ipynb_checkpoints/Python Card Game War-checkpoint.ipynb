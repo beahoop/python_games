{
 "cells": [
  {
   "cell_type": "code",
   "execution_count": 1,
   "id": "occupied-rehabilitation",
   "metadata": {},
   "outputs": [],
   "source": [
    "#make the card game war! \n",
    "#shuffle(), choice(), random(), count()\n",
    "#you must have \n",
    "# Game - most logic goes here\n",
    "# Player\n",
    "# Deck\n",
    "# Card\n",
    "# classes"
   ]
  },
  {
   "cell_type": "code",
   "execution_count": 52,
   "id": "literary-discount",
   "metadata": {},
   "outputs": [
    {
     "data": {
      "text/plain": [
       "[]"
      ]
     },
     "execution_count": 52,
     "metadata": {},
     "output_type": "execute_result"
    }
   ],
   "source": [
    "import random \n",
    "\n",
    "#what does it mean to be a Game\n",
    "#game will have play, \n",
    "#who are the players, whats in the pot, \n",
    "class Game:\n",
    "    def __init__(self, player, pot, hand):\n",
    "        self.player = player\n",
    "        self.pot = pot\n",
    "        self.hand = hand\n",
    "        \n",
    "        \n",
    "\n",
    "#what does it mean to be a deck\n",
    "#deck is 52 different cards that are shuffled\n",
    "class Deck(Game):\n",
    "    \n",
    "    deck_of_cards = []\n",
    "    \n",
    "    def __init__(self, cards):\n",
    "        self.cards = cards\n",
    "        \n",
    "\n",
    "#what does it mean to be a card\n",
    "#a single card\n",
    "class Card(Deck):\n",
    "    \n",
    "    suits = []\n",
    "    value = [1, 2, 3, 4, 5, 6, 7, 8, 9, 10, 11, 12 ,13]\n",
    "    def __init__(self, suit, value):\n",
    "        self.suit = suit\n",
    "        self.value = value\n",
    "        #need to set hard values of heart, dimonad, spade and club\n",
    "        #need to set values to \n",
    "        \n",
    "    def suit(self):\n",
    "        self.suits.append(self.suit)\n",
    "        print(self.suits)\n",
    "\n",
    "#what does it mean to be a Player\n",
    "#heart run heart 13 times with the vales of \n",
    "class Player(Card):\n",
    "    def __init__(self, username, cards):\n",
    "        self.username = username\n",
    "        self.cards = cards\n",
    "\n",
    "sarah = Player(\"Sarah\", \"5\")\n",
    "\n",
    "heart = Card('heart', 7)\n",
    "spade = Card('spade', 8)\n",
    "Card.suits"
   ]
  },
  {
   "cell_type": "code",
   "execution_count": 27,
   "id": "descending-emperor",
   "metadata": {},
   "outputs": [
    {
     "data": {
      "text/plain": [
       "4"
      ]
     },
     "execution_count": 27,
     "metadata": {},
     "output_type": "execute_result"
    }
   ],
   "source": [
    "random.randint(1, 5)"
   ]
  },
  {
   "cell_type": "code",
   "execution_count": 36,
   "id": "inside-quarter",
   "metadata": {},
   "outputs": [
    {
     "name": "stdout",
     "output_type": "stream",
     "text": [
      "3 5\n"
     ]
    }
   ],
   "source": [
    "a = random.randint(1,5)\n",
    "b = random.randint(1,5)\n",
    "print(a, b)"
   ]
  },
  {
   "cell_type": "code",
   "execution_count": null,
   "id": "intimate-quest",
   "metadata": {},
   "outputs": [],
   "source": [
    "def compare()\n",
    "    "
   ]
  }
 ],
 "metadata": {
  "kernelspec": {
   "display_name": "Python 3",
   "language": "python",
   "name": "python3"
  },
  "language_info": {
   "codemirror_mode": {
    "name": "ipython",
    "version": 3
   },
   "file_extension": ".py",
   "mimetype": "text/x-python",
   "name": "python",
   "nbconvert_exporter": "python",
   "pygments_lexer": "ipython3",
   "version": "3.9.1"
  }
 },
 "nbformat": 4,
 "nbformat_minor": 5
}
