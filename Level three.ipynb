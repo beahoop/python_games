{
 "cells": [
  {
   "cell_type": "code",
   "execution_count": 69,
   "id": "worth-operator",
   "metadata": {},
   "outputs": [],
   "source": [
    "# In level three, the computer's guesses are optimized to refine the \n",
    "# range on the guesses based on whether they are too high or too low.\n",
    "# if you guess 25 and you say too low, then guess lower than 25"
   ]
  },
  {
   "cell_type": "code",
   "execution_count": 70,
   "id": "signal-stopping",
   "metadata": {},
   "outputs": [],
   "source": [
    "import random"
   ]
  },
  {
   "cell_type": "code",
   "execution_count": 131,
   "id": "traditional-testament",
   "metadata": {},
   "outputs": [
    {
     "name": "stdout",
     "output_type": "stream",
     "text": [
      "Pick a number 1-10: 2\n",
      "Computer guess: 6\n",
      "Computer guessed too high!\n",
      "Computer guess: 9\n",
      "Computer guessed too high!\n",
      "Computer guess: 7\n",
      "Computer guessed too high!\n",
      "Computer guess: 8\n",
      "Computer guessed too high!\n",
      "Computer guess: 4\n",
      "Computer guessed too high!\n",
      "Computer guess: 9\n",
      "Computer guessed too high!\n",
      "Computer guess: 2\n",
      "Correct!\n"
     ]
    }
   ],
   "source": [
    " def computer_kind_guess():\n",
    "    num = input(\"Pick a number 1-10: \")\n",
    "    num = int(num)\n",
    "    guess = 0\n",
    "    while num != guess:\n",
    "        min = 1\n",
    "        max = 10\n",
    "        guess = random.randrange(min, max)\n",
    "        print('Computer guess:', guess)\n",
    "        if guess < num:\n",
    "            min = guess\n",
    "            print(\"Computer guessed too low!\")\n",
    "        elif guess > num:\n",
    "            max = guess\n",
    "            print(\"Computer guessed too high!\")\n",
    "        else:\n",
    "            print(\"Correct!\")\n",
    "            \n",
    "computer_kind_guess()"
   ]
  }
 ],
 "metadata": {
  "kernelspec": {
   "display_name": "Python 3",
   "language": "python",
   "name": "python3"
  },
  "language_info": {
   "codemirror_mode": {
    "name": "ipython",
    "version": 3
   },
   "file_extension": ".py",
   "mimetype": "text/x-python",
   "name": "python",
   "nbconvert_exporter": "python",
   "pygments_lexer": "ipython3",
   "version": "3.9.1"
  }
 },
 "nbformat": 4,
 "nbformat_minor": 5
}
