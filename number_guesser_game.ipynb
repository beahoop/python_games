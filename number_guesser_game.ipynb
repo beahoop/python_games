{
 "cells": [
  {
   "cell_type": "code",
   "execution_count": 1,
   "id": "dominican-table",
   "metadata": {},
   "outputs": [],
   "source": [
    "# here is a comment print( 3+8)"
   ]
  },
  {
   "cell_type": "code",
   "execution_count": 2,
   "id": "relative-confusion",
   "metadata": {},
   "outputs": [
    {
     "name": "stdout",
     "output_type": "stream",
     "text": [
      "11\n"
     ]
    }
   ],
   "source": [
    "print(3+8)"
   ]
  },
  {
   "cell_type": "code",
   "execution_count": 3,
   "id": "skilled-munich",
   "metadata": {},
   "outputs": [],
   "source": [
    "#here is a comment"
   ]
  },
  {
   "cell_type": "markdown",
   "id": "considered-quarterly",
   "metadata": {},
   "source": [
    "Here is a markdown comment"
   ]
  },
  {
   "cell_type": "markdown",
   "id": "retained-mouse",
   "metadata": {},
   "source": [
    "Monday class notes\n"
   ]
  },
  {
   "cell_type": "code",
   "execution_count": 1,
   "id": "dried-phoenix",
   "metadata": {},
   "outputs": [
    {
     "name": "stdout",
     "output_type": "stream",
     "text": [
      "Hello, World!\n"
     ]
    }
   ],
   "source": [
    "print(\"Hello, World!\")"
   ]
  },
  {
   "cell_type": "code",
   "execution_count": 2,
   "id": "flying-basic",
   "metadata": {},
   "outputs": [
    {
     "name": "stdout",
     "output_type": "stream",
     "text": [
      "5\n"
     ]
    }
   ],
   "source": [
    "print(4+4-3)"
   ]
  },
  {
   "cell_type": "markdown",
   "id": "optimum-discovery",
   "metadata": {},
   "source": [
    "Python really cares about spacing... and tabbing"
   ]
  },
  {
   "cell_type": "code",
   "execution_count": 9,
   "id": "instrumental-clone",
   "metadata": {},
   "outputs": [
    {
     "name": "stdout",
     "output_type": "stream",
     "text": [
      "x is 1\n"
     ]
    }
   ],
   "source": [
    "x = 1 \n",
    "\n",
    "if x == 1: \n",
    "    print(\"x is 1\")"
   ]
  },
  {
   "cell_type": "code",
   "execution_count": 10,
   "id": "statewide-times",
   "metadata": {},
   "outputs": [
    {
     "name": "stdout",
     "output_type": "stream",
     "text": [
      "Hi, Sarah\n"
     ]
    }
   ],
   "source": [
    "#this is a commnet \n",
    "\n",
    "print(\"Hi, Sarah\")"
   ]
  },
  {
   "cell_type": "code",
   "execution_count": 22,
   "id": "regulated-trial",
   "metadata": {},
   "outputs": [
    {
     "name": "stdout",
     "output_type": "stream",
     "text": [
      "C:\\some\\name\n",
      "Hey \n",
      "how is it \n",
      "going?\n",
      "HelloHelloHello\n"
     ]
    }
   ],
   "source": [
    "mystring = \"Hello\"\n",
    "\n",
    "mystring = 'World'\n",
    "\n",
    "mystring = \"I don't want to go!\"\n",
    "\n",
    "mystring = 'I don\\'t want to go!'\n",
    "\n",
    "print(r'C:\\some\\name')\n",
    "#/n is new line and r will makes it a raw string\n",
    "\n",
    "print('''\\\n",
    "Hey \n",
    "how is it \n",
    "going?''')\n",
    "\n",
    "print(3 * \"Hello\")"
   ]
  },
  {
   "cell_type": "code",
   "execution_count": 24,
   "id": "committed-chorus",
   "metadata": {},
   "outputs": [
    {
     "name": "stdout",
     "output_type": "stream",
     "text": [
      "Submarine\n"
     ]
    }
   ],
   "source": [
    "prefix = \"Sub\"\n",
    "\n",
    "print(prefix + \"marine\")\n",
    "# needs the plus symbol"
   ]
  },
  {
   "cell_type": "code",
   "execution_count": 27,
   "id": "endangered-conversion",
   "metadata": {},
   "outputs": [
    {
     "name": "stdout",
     "output_type": "stream",
     "text": [
      "Put several strings within parentheses to have the joined together\n"
     ]
    }
   ],
   "source": [
    "mystring = ('Put several strings within parentheses' ' to have the joined together')\n",
    "print(mystring)"
   ]
  },
  {
   "cell_type": "code",
   "execution_count": 28,
   "id": "precise-study",
   "metadata": {},
   "outputs": [
    {
     "name": "stdout",
     "output_type": "stream",
     "text": [
      "Python\n"
     ]
    }
   ],
   "source": [
    "print(\"Py\"\"thon\")"
   ]
  },
  {
   "cell_type": "code",
   "execution_count": 44,
   "id": "invalid-heath",
   "metadata": {},
   "outputs": [
    {
     "data": {
      "text/plain": [
       "8"
      ]
     },
     "execution_count": 44,
     "metadata": {},
     "output_type": "execute_result"
    }
   ],
   "source": [
    "word = 'sunshine'\n",
    "word[0]\n",
    "word[4]\n",
    "word[-2]\n",
    "# in jupyter..it'll print your result but if I want that h i need to set it to a var\n",
    "\n",
    "word[0:3] #this is splicing, 0 is where you want to start and 3 is how my many characters to splice\n",
    "#you don't need  a starting value, if you don't til start at 0\n",
    "\n",
    "word[0::2] #this is a step value \n",
    "word[::-1] #this is reverse \n",
    "len(word) #this is the length "
   ]
  },
  {
   "cell_type": "code",
   "execution_count": 48,
   "id": "ambient-ottawa",
   "metadata": {},
   "outputs": [
    {
     "name": "stdout",
     "output_type": "stream",
     "text": [
      "7\n",
      "7.0\n"
     ]
    }
   ],
   "source": [
    "myint = 7\n",
    "\n",
    "myfloat = 7.4 #.whatever is a floating point number \n",
    "print(int(myfloat))\n",
    "print(float(myint))"
   ]
  },
  {
   "cell_type": "code",
   "execution_count": 49,
   "id": "vital-latino",
   "metadata": {},
   "outputs": [
    {
     "data": {
      "text/plain": [
       "int"
      ]
     },
     "execution_count": 49,
     "metadata": {},
     "output_type": "execute_result"
    }
   ],
   "source": [
    "type(9)"
   ]
  },
  {
   "cell_type": "code",
   "execution_count": 50,
   "id": "mature-advance",
   "metadata": {},
   "outputs": [
    {
     "data": {
      "text/plain": [
       "4"
      ]
     },
     "execution_count": 50,
     "metadata": {},
     "output_type": "execute_result"
    }
   ],
   "source": [
    "2 + 2\n"
   ]
  },
  {
   "cell_type": "code",
   "execution_count": 51,
   "id": "varying-baseline",
   "metadata": {},
   "outputs": [
    {
     "data": {
      "text/plain": [
       "0.5"
      ]
     },
     "execution_count": 51,
     "metadata": {},
     "output_type": "execute_result"
    }
   ],
   "source": [
    "2/4"
   ]
  },
  {
   "cell_type": "code",
   "execution_count": 52,
   "id": "expensive-queen",
   "metadata": {},
   "outputs": [
    {
     "data": {
      "text/plain": [
       "1.3333333333333333"
      ]
     },
     "execution_count": 52,
     "metadata": {},
     "output_type": "execute_result"
    }
   ],
   "source": [
    "4 / 3\n"
   ]
  },
  {
   "cell_type": "code",
   "execution_count": 54,
   "id": "european-static",
   "metadata": {},
   "outputs": [
    {
     "data": {
      "text/plain": [
       "1"
      ]
     },
     "execution_count": 54,
     "metadata": {},
     "output_type": "execute_result"
    }
   ],
   "source": [
    "4 // 3 #to get back a whole number.. it just drops the decimal ..rounds down"
   ]
  },
  {
   "cell_type": "code",
   "execution_count": 55,
   "id": "german-ghana",
   "metadata": {},
   "outputs": [
    {
     "data": {
      "text/plain": [
       "1"
      ]
     },
     "execution_count": 55,
     "metadata": {},
     "output_type": "execute_result"
    }
   ],
   "source": [
    "4 % 3 #return the remainer of the dividison "
   ]
  },
  {
   "cell_type": "code",
   "execution_count": 56,
   "id": "educational-category",
   "metadata": {},
   "outputs": [
    {
     "data": {
      "text/plain": [
       "5.0"
      ]
     },
     "execution_count": 56,
     "metadata": {},
     "output_type": "execute_result"
    }
   ],
   "source": [
    "(50 - 5 * 6) / 4"
   ]
  },
  {
   "cell_type": "code",
   "execution_count": 57,
   "id": "catholic-catch",
   "metadata": {},
   "outputs": [
    {
     "data": {
      "text/plain": [
       "5"
      ]
     },
     "execution_count": 57,
     "metadata": {},
     "output_type": "execute_result"
    }
   ],
   "source": [
    "(50 - 5 * 6) // 4"
   ]
  },
  {
   "cell_type": "code",
   "execution_count": 58,
   "id": "vocational-experiment",
   "metadata": {},
   "outputs": [
    {
     "data": {
      "text/plain": [
       "8"
      ]
     },
     "execution_count": 58,
     "metadata": {},
     "output_type": "execute_result"
    }
   ],
   "source": [
    "2 ** 3 # 2 to the 3th power"
   ]
  },
  {
   "cell_type": "code",
   "execution_count": 62,
   "id": "purple-procedure",
   "metadata": {},
   "outputs": [
    {
     "data": {
      "text/plain": [
       "14.0"
      ]
     },
     "execution_count": 62,
     "metadata": {},
     "output_type": "execute_result"
    }
   ],
   "source": [
    "4 * 3.75 - 1  #mix type of float and ing will return float"
   ]
  },
  {
   "cell_type": "code",
   "execution_count": 63,
   "id": "worse-cabin",
   "metadata": {},
   "outputs": [
    {
     "data": {
      "text/plain": [
       "15"
      ]
     },
     "execution_count": 63,
     "metadata": {},
     "output_type": "execute_result"
    }
   ],
   "source": [
    "4 * 4 -1"
   ]
  },
  {
   "cell_type": "code",
   "execution_count": 65,
   "id": "streaming-image",
   "metadata": {},
   "outputs": [
    {
     "data": {
      "text/plain": [
       "9"
      ]
     },
     "execution_count": 65,
     "metadata": {},
     "output_type": "execute_result"
    }
   ],
   "source": [
    "-3 * -3\n"
   ]
  },
  {
   "cell_type": "code",
   "execution_count": 66,
   "id": "third-alfred",
   "metadata": {},
   "outputs": [
    {
     "data": {
      "text/plain": [
       "-9"
      ]
     },
     "execution_count": 66,
     "metadata": {},
     "output_type": "execute_result"
    }
   ],
   "source": [
    "-3 ** 2"
   ]
  },
  {
   "cell_type": "code",
   "execution_count": 67,
   "id": "finite-occupation",
   "metadata": {},
   "outputs": [
    {
     "data": {
      "text/plain": [
       "-9"
      ]
     },
     "execution_count": 67,
     "metadata": {},
     "output_type": "execute_result"
    }
   ],
   "source": [
    "-(3 **2) #is how python is reading this"
   ]
  },
  {
   "cell_type": "code",
   "execution_count": 69,
   "id": "perceived-meter",
   "metadata": {},
   "outputs": [
    {
     "data": {
      "text/plain": [
       "9"
      ]
     },
     "execution_count": 69,
     "metadata": {},
     "output_type": "execute_result"
    }
   ],
   "source": [
    "(-3) ** 2 #always wrap negs in ()"
   ]
  },
  {
   "cell_type": "code",
   "execution_count": 72,
   "id": "native-singing",
   "metadata": {},
   "outputs": [
    {
     "data": {
      "text/plain": [
       "False"
      ]
     },
     "execution_count": 72,
     "metadata": {},
     "output_type": "execute_result"
    }
   ],
   "source": [
    "True #not true\n",
    "False #not false"
   ]
  },
  {
   "cell_type": "code",
   "execution_count": 76,
   "id": "comparative-anthony",
   "metadata": {
    "scrolled": false
   },
   "outputs": [
    {
     "name": "stdout",
     "output_type": "stream",
     "text": [
      "3 4\n"
     ]
    }
   ],
   "source": [
    "a, b = 3, 4\n",
    "\n",
    "print(a, b)"
   ]
  },
  {
   "cell_type": "code",
   "execution_count": 81,
   "id": "racial-consent",
   "metadata": {},
   "outputs": [],
   "source": [
    "one = 1 \n",
    "two = \"hello\"\n",
    "# print(one + two)"
   ]
  },
  {
   "cell_type": "code",
   "execution_count": 82,
   "id": "endangered-orchestra",
   "metadata": {},
   "outputs": [],
   "source": [
    "#varibles no spaces but _ snake_case can't start with a number, Captails or don't use keywords,"
   ]
  },
  {
   "cell_type": "code",
   "execution_count": 83,
   "id": "driven-letter",
   "metadata": {},
   "outputs": [
    {
     "data": {
      "text/plain": [
       "True"
      ]
     },
     "execution_count": 83,
     "metadata": {},
     "output_type": "execute_result"
    }
   ],
   "source": [
    "100 > 0"
   ]
  },
  {
   "cell_type": "code",
   "execution_count": 84,
   "id": "understood-citizen",
   "metadata": {},
   "outputs": [
    {
     "data": {
      "text/plain": [
       "True"
      ]
     },
     "execution_count": 84,
     "metadata": {},
     "output_type": "execute_result"
    }
   ],
   "source": [
    "2 >= 2"
   ]
  },
  {
   "cell_type": "code",
   "execution_count": 85,
   "id": "junior-lincoln",
   "metadata": {},
   "outputs": [
    {
     "data": {
      "text/plain": [
       "False"
      ]
     },
     "execution_count": 85,
     "metadata": {},
     "output_type": "execute_result"
    }
   ],
   "source": [
    "2 <= 1"
   ]
  },
  {
   "cell_type": "code",
   "execution_count": 86,
   "id": "prepared-frontier",
   "metadata": {},
   "outputs": [
    {
     "data": {
      "text/plain": [
       "False"
      ]
     },
     "execution_count": 86,
     "metadata": {},
     "output_type": "execute_result"
    }
   ],
   "source": [
    "4 == 6 #double equals"
   ]
  },
  {
   "cell_type": "code",
   "execution_count": 87,
   "id": "exotic-sport",
   "metadata": {},
   "outputs": [
    {
     "data": {
      "text/plain": [
       "False"
      ]
     },
     "execution_count": 87,
     "metadata": {},
     "output_type": "execute_result"
    }
   ],
   "source": [
    "3 != 3"
   ]
  },
  {
   "cell_type": "code",
   "execution_count": 88,
   "id": "numerous-bookmark",
   "metadata": {},
   "outputs": [
    {
     "data": {
      "text/plain": [
       "True"
      ]
     },
     "execution_count": 88,
     "metadata": {},
     "output_type": "execute_result"
    }
   ],
   "source": [
    "2 != 5"
   ]
  },
  {
   "cell_type": "code",
   "execution_count": 89,
   "id": "desirable-robert",
   "metadata": {},
   "outputs": [
    {
     "data": {
      "text/plain": [
       "True"
      ]
     },
     "execution_count": 89,
     "metadata": {},
     "output_type": "execute_result"
    }
   ],
   "source": [
    "3 > 2 and 3 > 1"
   ]
  },
  {
   "cell_type": "code",
   "execution_count": 91,
   "id": "actual-slovak",
   "metadata": {},
   "outputs": [
    {
     "data": {
      "text/plain": [
       "True"
      ]
     },
     "execution_count": 91,
     "metadata": {},
     "output_type": "execute_result"
    }
   ],
   "source": [
    "3 > 2 or 3 > 4"
   ]
  },
  {
   "cell_type": "markdown",
   "id": "convertible-atmosphere",
   "metadata": {},
   "source": [
    "1 == 2 and 10 != 2 and 2 < 10"
   ]
  },
  {
   "cell_type": "code",
   "execution_count": 95,
   "id": "bronze-iraqi",
   "metadata": {},
   "outputs": [
    {
     "data": {
      "text/plain": [
       "True"
      ]
     },
     "execution_count": 95,
     "metadata": {},
     "output_type": "execute_result"
    }
   ],
   "source": [
    "1 == 1 and 10 != 2 or not 2 < 10"
   ]
  },
  {
   "cell_type": "code",
   "execution_count": 96,
   "id": "increased-listening",
   "metadata": {},
   "outputs": [
    {
     "data": {
      "text/plain": [
       "False"
      ]
     },
     "execution_count": 96,
     "metadata": {},
     "output_type": "execute_result"
    }
   ],
   "source": [
    "not True"
   ]
  },
  {
   "cell_type": "code",
   "execution_count": 97,
   "id": "herbal-referral",
   "metadata": {},
   "outputs": [
    {
     "data": {
      "text/plain": [
       "True"
      ]
     },
     "execution_count": 97,
     "metadata": {},
     "output_type": "execute_result"
    }
   ],
   "source": [
    "not not True"
   ]
  },
  {
   "cell_type": "code",
   "execution_count": 103,
   "id": "victorian-sudan",
   "metadata": {},
   "outputs": [
    {
     "name": "stdout",
     "output_type": "stream",
     "text": [
      "Hello, Iceland!\n"
     ]
    }
   ],
   "source": [
    "home = \"Iceland\"\n",
    "\n",
    "if home == \"Iceland\":\n",
    "    print(\"Hello, Iceland!\")\n",
    "elif home == \"Greenville\":\n",
    "    print(\"Hello, Greenville!\")\n",
    "else: \n",
    "    print(\"Hello\")"
   ]
  },
  {
   "cell_type": "code",
   "execution_count": 104,
   "id": "integrated-defensive",
   "metadata": {},
   "outputs": [
    {
     "name": "stdout",
     "output_type": "stream",
     "text": [
      "Hello\n",
      "Hello\n",
      "Hello\n"
     ]
    }
   ],
   "source": [
    "for i in range(3):\n",
    "    print(\"Hello\") #range gave us index: 0, 1, 2 "
   ]
  },
  {
   "cell_type": "code",
   "execution_count": 106,
   "id": "crude-cathedral",
   "metadata": {},
   "outputs": [
    {
     "name": "stdout",
     "output_type": "stream",
     "text": [
      "h\n",
      "e\n",
      "l\n",
      "l\n",
      "o\n"
     ]
    }
   ],
   "source": [
    "for i in 'hello':\n",
    "    print(i)"
   ]
  },
  {
   "cell_type": "code",
   "execution_count": 108,
   "id": "medium-geography",
   "metadata": {},
   "outputs": [
    {
     "data": {
      "text/plain": [
       "4"
      ]
     },
     "execution_count": 108,
     "metadata": {},
     "output_type": "execute_result"
    }
   ],
   "source": [
    "def myFunc(x):\n",
    "    return x * 2\n",
    "\n",
    "myFunc(2)"
   ]
  },
  {
   "cell_type": "code",
   "execution_count": 110,
   "id": "ranking-separate",
   "metadata": {},
   "outputs": [
    {
     "data": {
      "text/plain": [
       "True"
      ]
     },
     "execution_count": 110,
     "metadata": {},
     "output_type": "execute_result"
    }
   ],
   "source": [
    "def checking_even(num): \n",
    "    if num % 2 == 0:\n",
    "        return True\n",
    "    else: \n",
    "        return False\n",
    "    \n",
    "checking_even(6)"
   ]
  },
  {
   "cell_type": "code",
   "execution_count": 112,
   "id": "perfect-priest",
   "metadata": {},
   "outputs": [
    {
     "data": {
      "text/plain": [
       "True"
      ]
     },
     "execution_count": 112,
     "metadata": {},
     "output_type": "execute_result"
    }
   ],
   "source": [
    "None == None #there is only one None!!! so None can equal None"
   ]
  },
  {
   "cell_type": "code",
   "execution_count": 131,
   "id": "cordless-dynamics",
   "metadata": {},
   "outputs": [],
   "source": [
    "def guess_my_number(guess):\n",
    "    if guess > 66:\n",
    "        return print(\"Guess lower!\")\n",
    "    elif guess < 66:\n",
    "        return print(\"Guess higher!\")\n",
    "    else: \n",
    "        return print(\"CORRECT!\")"
   ]
  },
  {
   "cell_type": "code",
   "execution_count": 120,
   "id": "offensive-judgment",
   "metadata": {},
   "outputs": [
    {
     "name": "stdout",
     "output_type": "stream",
     "text": [
      "Guess higher!\n"
     ]
    }
   ],
   "source": [
    "guess_my_number(9)"
   ]
  },
  {
   "cell_type": "code",
   "execution_count": 123,
   "id": "incident-citizenship",
   "metadata": {},
   "outputs": [
    {
     "name": "stdout",
     "output_type": "stream",
     "text": [
      "1\n",
      "2\n"
     ]
    }
   ],
   "source": [
    "j = 2\n",
    "\n",
    "def my_func(): \n",
    "    j = 1\n",
    "    print(j)\n",
    "    \n",
    "my_func()\n",
    "\n",
    "print(j)"
   ]
  },
  {
   "cell_type": "code",
   "execution_count": 125,
   "id": "acknowledged-folks",
   "metadata": {},
   "outputs": [
    {
     "name": "stdout",
     "output_type": "stream",
     "text": [
      "1\n",
      "1\n"
     ]
    }
   ],
   "source": [
    "j = 2\n",
    "\n",
    "def my_func(): \n",
    "    global j\n",
    "    j = 1\n",
    "    print(j)\n",
    "    \n",
    "my_func()\n",
    "\n",
    "print(j)"
   ]
  },
  {
   "cell_type": "code",
   "execution_count": 126,
   "id": "sunrise-moisture",
   "metadata": {},
   "outputs": [
    {
     "name": "stdout",
     "output_type": "stream",
     "text": [
      "Guess lower!\n"
     ]
    }
   ],
   "source": [
    "guess_my_number(99)"
   ]
  },
  {
   "cell_type": "code",
   "execution_count": 158,
   "id": "small-malta",
   "metadata": {},
   "outputs": [
    {
     "data": {
      "text/plain": [
       "6"
      ]
     },
     "execution_count": 158,
     "metadata": {},
     "output_type": "execute_result"
    }
   ],
   "source": [
    "random.randrange(10)"
   ]
  },
  {
   "cell_type": "code",
   "execution_count": 159,
   "id": "turkish-recipe",
   "metadata": {},
   "outputs": [
    {
     "data": {
      "text/plain": [
       "0"
      ]
     },
     "execution_count": 159,
     "metadata": {},
     "output_type": "execute_result"
    }
   ],
   "source": [
    "random.randrange(10)"
   ]
  },
  {
   "cell_type": "code",
   "execution_count": 160,
   "id": "bridal-front",
   "metadata": {},
   "outputs": [
    {
     "name": "stdout",
     "output_type": "stream",
     "text": [
      "Guess the number5\n"
     ]
    }
   ],
   "source": [
    "guess = input(\"Guess the number\")"
   ]
  },
  {
   "cell_type": "code",
   "execution_count": 161,
   "id": "theoretical-subject",
   "metadata": {},
   "outputs": [
    {
     "data": {
      "text/plain": [
       "'5'"
      ]
     },
     "execution_count": 161,
     "metadata": {},
     "output_type": "execute_result"
    }
   ],
   "source": [
    "guess"
   ]
  },
  {
   "cell_type": "code",
   "execution_count": 162,
   "id": "electoral-calculator",
   "metadata": {},
   "outputs": [],
   "source": [
    "guess_list = []"
   ]
  },
  {
   "cell_type": "code",
   "execution_count": 163,
   "id": "satisfactory-bangladesh",
   "metadata": {},
   "outputs": [],
   "source": [
    "guess_list.append(guess)"
   ]
  },
  {
   "cell_type": "code",
   "execution_count": 164,
   "id": "boolean-rider",
   "metadata": {},
   "outputs": [
    {
     "data": {
      "text/plain": [
       "['5']"
      ]
     },
     "execution_count": 164,
     "metadata": {},
     "output_type": "execute_result"
    }
   ],
   "source": [
    "guess_list"
   ]
  },
  {
   "cell_type": "code",
   "execution_count": 165,
   "id": "equal-theorem",
   "metadata": {},
   "outputs": [
    {
     "data": {
      "text/plain": [
       "1"
      ]
     },
     "execution_count": 165,
     "metadata": {},
     "output_type": "execute_result"
    }
   ],
   "source": [
    "len(guess_list)"
   ]
  },
  {
   "cell_type": "code",
   "execution_count": 182,
   "id": "commercial-exercise",
   "metadata": {},
   "outputs": [],
   "source": [
    "def you_guess_number():\n",
    "    num = random.randrange(10)\n",
    "    guess = input(\"Guess a number human...\")\n",
    "    guess = int(guess)\n",
    "    your_guess_list = []\n",
    "    your_guess_list.append(guess)\n",
    "    if len(your_guess_list) < 3 and guess < num: \n",
    "        return print(\"Higher\")\n",
    "    elif len(your_guess_list) < 3 and guess > num:\n",
    "        return print(\"Lower\")\n",
    "    elif len(your_guess_list) > 3:\n",
    "        return print(\"Out of guess!\")\n",
    "    elif len(your_guess_list) < 3 and guess == num: \n",
    "        return print(\"CORRET!\")"
   ]
  },
  {
   "cell_type": "code",
   "execution_count": 183,
   "id": "published-digit",
   "metadata": {},
   "outputs": [
    {
     "name": "stdout",
     "output_type": "stream",
     "text": [
      "Guess a number human...4\n",
      "Lower\n"
     ]
    }
   ],
   "source": [
    "you_guess_number()"
   ]
  },
  {
   "cell_type": "code",
   "execution_count": 178,
   "id": "productive-portal",
   "metadata": {},
   "outputs": [
    {
     "data": {
      "text/plain": [
       "4"
      ]
     },
     "execution_count": 178,
     "metadata": {},
     "output_type": "execute_result"
    }
   ],
   "source": [
    "int(\"4\")"
   ]
  },
  {
   "cell_type": "code",
   "execution_count": null,
   "id": "radical-candy",
   "metadata": {},
   "outputs": [],
   "source": []
  }
 ],
 "metadata": {
  "kernelspec": {
   "display_name": "Python 3",
   "language": "python",
   "name": "python3"
  },
  "language_info": {
   "codemirror_mode": {
    "name": "ipython",
    "version": 3
   },
   "file_extension": ".py",
   "mimetype": "text/x-python",
   "name": "python",
   "nbconvert_exporter": "python",
   "pygments_lexer": "ipython3",
   "version": "3.9.1"
  }
 },
 "nbformat": 4,
 "nbformat_minor": 5
}
