{
 "cells": [
  {
   "cell_type": "code",
   "execution_count": 5,
   "id": "spatial-abraham",
   "metadata": {},
   "outputs": [
    {
     "name": "stdout",
     "output_type": "stream",
     "text": [
      "[['heart', 1]]\n",
      "[['heart', 1], ['heart', 2]]\n"
     ]
    }
   ],
   "source": [
    "class Card():\n",
    "    cards = []\n",
    "    suits = [\"heart\", \"dimonad\", \"spade\", \"club\"]\n",
    "    value = [1, 2, 3, 4, 5, 6, 7, 8, 9, 10, 11, 12 ,13]\n",
    "    def __init__(self, suit, value):\n",
    "        self.suit = suit\n",
    "        self.value = value\n",
    "        #need to set hard values of heart, dimonad, spade and club\n",
    "        #need to set values to \n",
    "        \n",
    "    def make_card(self):\n",
    "        self.cards.append([self.suit, self.value])\n",
    "        print(self.cards)\n",
    "\n",
    "        \n",
    "one_of_hearts = Card(\"heart\", 1)\n",
    "one_of_hearts.make_card()\n",
    "two_of_hearts = Card(\"heart\", 2)\n",
    "two_of_hearts.make_card()"
   ]
  },
  {
   "cell_type": "code",
   "execution_count": null,
   "id": "metric-vermont",
   "metadata": {},
   "outputs": [],
   "source": []
  },
  {
   "cell_type": "code",
   "execution_count": null,
   "id": "concerned-providence",
   "metadata": {},
   "outputs": [],
   "source": []
  }
 ],
 "metadata": {
  "kernelspec": {
   "display_name": "Python 3",
   "language": "python",
   "name": "python3"
  },
  "language_info": {
   "codemirror_mode": {
    "name": "ipython",
    "version": 3
   },
   "file_extension": ".py",
   "mimetype": "text/x-python",
   "name": "python",
   "nbconvert_exporter": "python",
   "pygments_lexer": "ipython3",
   "version": "3.9.1"
  }
 },
 "nbformat": 4,
 "nbformat_minor": 5
}
